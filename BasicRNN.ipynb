{
 "cells": [
  {
   "cell_type": "markdown",
   "metadata": {},
   "source": [
    "# RNN Applications\n",
    "- Time series predication\n",
    "- Language modeling (Text generation)\n",
    "- Text sentiment Analysis\n",
    "- Named entity recongnition\n",
    "- Translation\n",
    "- Speech recognition\n",
    "- Music Composition"
   ]
  },
  {
   "cell_type": "code",
   "execution_count": 1,
   "metadata": {},
   "outputs": [],
   "source": [
    "import torch\n",
    "import torch.nn as nn\n",
    "from torch.autograd import Variable\n",
    "import sys"
   ]
  },
  {
   "cell_type": "markdown",
   "metadata": {},
   "source": [
    "### Define different cells using nn module"
   ]
  },
  {
   "cell_type": "code",
   "execution_count": 2,
   "metadata": {},
   "outputs": [
    {
     "data": {
      "text/plain": [
       "RNN(4, 2, batch_first=True)"
      ]
     },
     "execution_count": 2,
     "metadata": {},
     "output_type": "execute_result"
    }
   ],
   "source": [
    "# output is hidden_size\n",
    "cell = nn.RNN(input_size = 4, hidden_size = 2, batch_first = True)\n",
    "cell"
   ]
  },
  {
   "cell_type": "code",
   "execution_count": 3,
   "metadata": {},
   "outputs": [
    {
     "data": {
      "text/plain": [
       "LSTM(4, 2, batch_first=True)"
      ]
     },
     "execution_count": 3,
     "metadata": {},
     "output_type": "execute_result"
    }
   ],
   "source": [
    "cell = nn.LSTM(input_size = 4, hidden_size = 2, batch_first = True)\n",
    "cell"
   ]
  },
  {
   "cell_type": "code",
   "execution_count": 4,
   "metadata": {},
   "outputs": [
    {
     "data": {
      "text/plain": [
       "GRU(4, 2, batch_first=True)"
      ]
     },
     "execution_count": 4,
     "metadata": {},
     "output_type": "execute_result"
    }
   ],
   "source": [
    "cell = nn.GRU(input_size = 4, hidden_size = 2, batch_first = True)\n",
    "cell"
   ]
  },
  {
   "cell_type": "code",
   "execution_count": 5,
   "metadata": {},
   "outputs": [],
   "source": [
    "# inputs is (batch_size, seq_len, input_size) with batch_first = True \n",
    "# hidden is (num_layers, batch_size, hidden_size)"
   ]
  },
  {
   "cell_type": "code",
   "execution_count": 6,
   "metadata": {},
   "outputs": [],
   "source": [
    "# feed letters as inputs\n",
    "# One hot encoding\n",
    "h = [1, 0, 0, 0]\n",
    "e = [0, 1, 0, 0]\n",
    "l = [0, 0, 1, 0]\n",
    "o = [0, 0, 0, 1]"
   ]
  },
  {
   "cell_type": "code",
   "execution_count": 7,
   "metadata": {},
   "outputs": [
    {
     "data": {
      "text/plain": [
       "torch.Size([1, 1, 4])"
      ]
     },
     "execution_count": 7,
     "metadata": {},
     "output_type": "execute_result"
    }
   ],
   "source": [
    "# batch_size, seq_len, input_size\n",
    "inputs = torch.autograd.Variable(torch.Tensor([[h]]))\n",
    "inputs.shape"
   ]
  },
  {
   "cell_type": "code",
   "execution_count": 8,
   "metadata": {},
   "outputs": [
    {
     "data": {
      "text/plain": [
       "torch.Size([1, 1, 2])"
      ]
     },
     "execution_count": 8,
     "metadata": {},
     "output_type": "execute_result"
    }
   ],
   "source": [
    "# num_layers, batch_size, hidden_size (Initialize randome)\n",
    "hidden = torch.autograd.Variable(torch.randn(1, 1, 2))\n",
    "hidden.shape"
   ]
  },
  {
   "cell_type": "code",
   "execution_count": 9,
   "metadata": {},
   "outputs": [
    {
     "name": "stdout",
     "output_type": "stream",
     "text": [
      "tensor([[[0.1505, 0.0483]]], grad_fn=<TransposeBackward0>)\n",
      "tensor([[[0.1505, 0.0483]]], grad_fn=<ViewBackward>)\n"
     ]
    }
   ],
   "source": [
    "out , hidden = cell(inputs, hidden)\n",
    "# Expact two values as output \n",
    "print(out) \n",
    "print(hidden)"
   ]
  },
  {
   "cell_type": "markdown",
   "metadata": {},
   "source": [
    "### Build RNN for multiple inputs"
   ]
  },
  {
   "cell_type": "code",
   "execution_count": 10,
   "metadata": {},
   "outputs": [
    {
     "data": {
      "text/plain": [
       "torch.Size([1, 5, 4])"
      ]
     },
     "execution_count": 10,
     "metadata": {},
     "output_type": "execute_result"
    }
   ],
   "source": [
    "# batch_size, seq_len, input_size\n",
    "cell = nn.RNN(input_size = 4, hidden_size = 2, batch_first = True)\n",
    "inputs = torch.autograd.Variable(torch.Tensor([[h, e, l, l, o]]))\n",
    "inputs.shape"
   ]
  },
  {
   "cell_type": "code",
   "execution_count": 11,
   "metadata": {},
   "outputs": [
    {
     "data": {
      "text/plain": [
       "tensor([[[ 0.9092,  0.6725],\n",
       "         [ 0.6716, -0.3791],\n",
       "         [ 0.8872, -0.6090],\n",
       "         [ 0.9140, -0.6392],\n",
       "         [ 0.2818, -0.2554]]], grad_fn=<TransposeBackward0>)"
      ]
     },
     "execution_count": 11,
     "metadata": {},
     "output_type": "execute_result"
    }
   ],
   "source": [
    "# num_layers, batch_size, hidden_size (Initialize randome)\n",
    "hidden = torch.autograd.Variable(torch.randn(1, 1, 2))\n",
    "out , hidden = cell(inputs, hidden)\n",
    "out"
   ]
  },
  {
   "cell_type": "markdown",
   "metadata": {},
   "source": [
    "### Build Multiple Batch input"
   ]
  },
  {
   "cell_type": "code",
   "execution_count": 12,
   "metadata": {},
   "outputs": [
    {
     "data": {
      "text/plain": [
       "torch.Size([3, 5, 4])"
      ]
     },
     "execution_count": 12,
     "metadata": {},
     "output_type": "execute_result"
    }
   ],
   "source": [
    "# batch_size, seq_len, input_size\n",
    "cell = nn.RNN(input_size = 4, hidden_size = 2, batch_first = True)\n",
    "inputs = torch.autograd.Variable(torch.Tensor([[h, e, l, l, o],\n",
    "                                               [e, o, l, l, l],\n",
    "                                               [l, l, e, e, l]]))\n",
    "# Notice batch_first = True\n",
    "# batch_size = 3\n",
    "# seq_len = 5\n",
    "# input_size = 4\n",
    "inputs.shape"
   ]
  },
  {
   "cell_type": "code",
   "execution_count": 13,
   "metadata": {},
   "outputs": [
    {
     "data": {
      "text/plain": [
       "tensor([[[ 0.0713, -0.3400],\n",
       "         [ 0.1548,  0.4288],\n",
       "         [-0.1941,  0.1248],\n",
       "         [ 0.1155,  0.1755],\n",
       "         [-0.3772, -0.3337]],\n",
       "\n",
       "        [[-0.8788,  0.0505],\n",
       "         [ 0.1133, -0.4585],\n",
       "         [ 0.2706,  0.4398],\n",
       "         [-0.2489,  0.1431],\n",
       "         [ 0.1305,  0.1578]],\n",
       "\n",
       "        [[ 0.2721,  0.3261],\n",
       "         [-0.1941,  0.1877],\n",
       "         [ 0.0042,  0.1920],\n",
       "         [-0.0868,  0.2282],\n",
       "         [ 0.0148,  0.1562]]], grad_fn=<TransposeBackward0>)"
      ]
     },
     "execution_count": 13,
     "metadata": {},
     "output_type": "execute_result"
    }
   ],
   "source": [
    "# num_layers, batch_size, hidden_size (Initialize randome)\n",
    "hidden = torch.autograd.Variable(torch.randn(1, 3, 2))\n",
    "out , hidden = cell(inputs, hidden)\n",
    "out"
   ]
  },
  {
   "cell_type": "markdown",
   "metadata": {},
   "source": [
    "### Train the network"
   ]
  },
  {
   "cell_type": "markdown",
   "metadata": {},
   "source": [
    "We want to predict the following sequence:\n",
    "- h --> i\n",
    "- i --> h\n",
    "- h --> e\n",
    "- e --> l\n",
    "- l --> l\n",
    "- l --> o\n",
    "\n",
    "There are five **input**  letters: h i e l  o \n",
    "\n",
    "There are fine **output** letters: h i e l  o \n",
    "\n",
    "Design our Loss function using **cross entropy**\n"
   ]
  },
  {
   "cell_type": "code",
   "execution_count": 15,
   "metadata": {},
   "outputs": [],
   "source": [
    "# cell = nn.RNN(input_size = 5, hidden_size = 5, batch_first = True)\n",
    "# labels = torch.autograd.Variable(torch.LongTensor(y_data))\n"
   ]
  },
  {
   "cell_type": "code",
   "execution_count": 16,
   "metadata": {},
   "outputs": [],
   "source": [
    "# As we have one batch of samples, we will change them to variables only once\n",
    "inputs = Variable(torch.Tensor(x_one_hot))\n",
    "labels = Variable(torch.LongTensor(y_data))"
   ]
  },
  {
   "cell_type": "code",
   "execution_count": 17,
   "metadata": {},
   "outputs": [],
   "source": [
    "num_classes = 5\n",
    "input_size = 5  # one-hot size\n",
    "hidden_size = 5  # output from the RNN. 5 to directly predict one-hot\n",
    "batch_size = 1   # one sentence\n",
    "sequence_length = 1  # One by one\n",
    "num_layers = 1  # one-layer rnn"
   ]
  },
  {
   "cell_type": "code",
   "execution_count": 18,
   "metadata": {},
   "outputs": [],
   "source": [
    "class Model(nn.Module):\n",
    "\n",
    "    def __init__(self):\n",
    "        super(Model, self).__init__()\n",
    "        self.rnn = nn.RNN(input_size=input_size,\n",
    "                          hidden_size=hidden_size, batch_first=True)\n",
    "\n",
    "    def forward(self, hidden, x):\n",
    "        # Reshape input (batch first)\n",
    "        x = x.view(batch_size, sequence_length, input_size)\n",
    "\n",
    "        # Propagate input through RNN\n",
    "        # Input: (batch, seq_len, input_size)\n",
    "        # hidden: (num_layers * num_directions, batch, hidden_size)\n",
    "        out, hidden = self.rnn(x, hidden)\n",
    "        return hidden, out.view(-1, num_classes)\n",
    "\n",
    "    def init_hidden(self):\n",
    "        # Initialize hidden and cell states\n",
    "        # (num_layers * num_directions, batch, hidden_size)\n",
    "        return Variable(torch.zeros(num_layers, batch_size, hidden_size))"
   ]
  },
  {
   "cell_type": "code",
   "execution_count": 19,
   "metadata": {},
   "outputs": [
    {
     "name": "stdout",
     "output_type": "stream",
     "text": [
      "Model(\n",
      "  (rnn): RNN(5, 5, batch_first=True)\n",
      ")\n"
     ]
    }
   ],
   "source": [
    "model = Model()\n",
    "print(model)\n",
    "# Use cross entrpy loss and find the error\n",
    "criterion = nn.CrossEntropyLoss()\n",
    "optimizer = torch.optim.Adam(model.parameters(), lr =0.1)"
   ]
  },
  {
   "cell_type": "code",
   "execution_count": 26,
   "metadata": {},
   "outputs": [
    {
     "name": "stdout",
     "output_type": "stream",
     "text": [
      "RNN(\n",
      "  (rnn): RNN(5, 5, batch_first=True)\n",
      ")\n",
      "epoch: 1, loss: 1.693\n",
      "Predicted string:  llllll\n",
      "epoch: 2, loss: 1.523\n",
      "Predicted string:  llllll\n",
      "epoch: 3, loss: 1.393\n",
      "Predicted string:  llllll\n",
      "epoch: 4, loss: 1.263\n",
      "Predicted string:  llllll\n",
      "epoch: 5, loss: 1.146\n",
      "Predicted string:  llllll\n",
      "epoch: 6, loss: 1.055\n",
      "Predicted string:  lhelll\n",
      "epoch: 7, loss: 1.002\n",
      "Predicted string:  ihelll\n",
      "epoch: 8, loss: 0.965\n",
      "Predicted string:  ihelll\n",
      "epoch: 9, loss: 0.913\n",
      "Predicted string:  ihelll\n",
      "epoch: 10, loss: 0.879\n",
      "Predicted string:  ihelll\n",
      "epoch: 11, loss: 0.840\n",
      "Predicted string:  ihelll\n",
      "epoch: 12, loss: 0.805\n",
      "Predicted string:  ihello\n",
      "epoch: 13, loss: 0.779\n",
      "Predicted string:  ihello\n",
      "epoch: 14, loss: 0.758\n",
      "Predicted string:  ihello\n",
      "epoch: 15, loss: 0.738\n",
      "Predicted string:  ihello\n",
      "epoch: 16, loss: 0.717\n",
      "Predicted string:  ihello\n",
      "epoch: 17, loss: 0.694\n",
      "Predicted string:  ihello\n",
      "epoch: 18, loss: 0.667\n",
      "Predicted string:  ihelll\n",
      "epoch: 19, loss: 0.643\n",
      "Predicted string:  ihelll\n",
      "epoch: 20, loss: 0.647\n",
      "Predicted string:  ihelll\n",
      "epoch: 21, loss: 0.628\n",
      "Predicted string:  ihelll\n",
      "epoch: 22, loss: 0.607\n",
      "Predicted string:  ihelll\n",
      "epoch: 23, loss: 0.600\n",
      "Predicted string:  ihelll\n",
      "epoch: 24, loss: 0.596\n",
      "Predicted string:  ihello\n",
      "epoch: 25, loss: 0.591\n",
      "Predicted string:  ihello\n",
      "epoch: 26, loss: 0.583\n",
      "Predicted string:  ihello\n",
      "epoch: 27, loss: 0.573\n",
      "Predicted string:  ihello\n",
      "epoch: 28, loss: 0.562\n",
      "Predicted string:  ihello\n",
      "epoch: 29, loss: 0.550\n",
      "Predicted string:  ihello\n",
      "epoch: 30, loss: 0.540\n",
      "Predicted string:  ihello\n",
      "epoch: 31, loss: 0.527\n",
      "Predicted string:  ihello\n",
      "epoch: 32, loss: 0.524\n",
      "Predicted string:  ihello\n",
      "epoch: 33, loss: 0.530\n",
      "Predicted string:  ihello\n",
      "epoch: 34, loss: 0.519\n",
      "Predicted string:  ihello\n",
      "epoch: 35, loss: 0.507\n",
      "Predicted string:  ihello\n",
      "epoch: 36, loss: 0.503\n",
      "Predicted string:  ihello\n",
      "epoch: 37, loss: 0.503\n",
      "Predicted string:  ihello\n",
      "epoch: 38, loss: 0.500\n",
      "Predicted string:  ihello\n",
      "epoch: 39, loss: 0.496\n",
      "Predicted string:  ihello\n",
      "epoch: 40, loss: 0.494\n",
      "Predicted string:  ihello\n",
      "epoch: 41, loss: 0.493\n",
      "Predicted string:  ihello\n",
      "epoch: 42, loss: 0.492\n",
      "Predicted string:  ihello\n",
      "epoch: 43, loss: 0.488\n",
      "Predicted string:  ihello\n",
      "epoch: 44, loss: 0.484\n",
      "Predicted string:  ihello\n",
      "epoch: 45, loss: 0.481\n",
      "Predicted string:  ihello\n",
      "epoch: 46, loss: 0.481\n",
      "Predicted string:  ihello\n",
      "epoch: 47, loss: 0.480\n",
      "Predicted string:  ihello\n",
      "epoch: 48, loss: 0.477\n",
      "Predicted string:  ihello\n",
      "epoch: 49, loss: 0.476\n",
      "Predicted string:  ihello\n",
      "epoch: 50, loss: 0.476\n",
      "Predicted string:  ihello\n",
      "epoch: 51, loss: 0.475\n",
      "Predicted string:  ihello\n",
      "epoch: 52, loss: 0.473\n",
      "Predicted string:  ihello\n",
      "epoch: 53, loss: 0.472\n",
      "Predicted string:  ihello\n",
      "epoch: 54, loss: 0.472\n",
      "Predicted string:  ihello\n",
      "epoch: 55, loss: 0.471\n",
      "Predicted string:  ihello\n",
      "epoch: 56, loss: 0.469\n",
      "Predicted string:  ihello\n",
      "epoch: 57, loss: 0.469\n",
      "Predicted string:  ihello\n",
      "epoch: 58, loss: 0.469\n",
      "Predicted string:  ihello\n",
      "epoch: 59, loss: 0.468\n",
      "Predicted string:  ihello\n",
      "epoch: 60, loss: 0.467\n",
      "Predicted string:  ihello\n",
      "epoch: 61, loss: 0.467\n",
      "Predicted string:  ihello\n",
      "epoch: 62, loss: 0.467\n",
      "Predicted string:  ihello\n",
      "epoch: 63, loss: 0.466\n",
      "Predicted string:  ihello\n",
      "epoch: 64, loss: 0.466\n",
      "Predicted string:  ihello\n",
      "epoch: 65, loss: 0.466\n",
      "Predicted string:  ihello\n",
      "epoch: 66, loss: 0.465\n",
      "Predicted string:  ihello\n",
      "epoch: 67, loss: 0.464\n",
      "Predicted string:  ihello\n",
      "epoch: 68, loss: 0.464\n",
      "Predicted string:  ihello\n",
      "epoch: 69, loss: 0.464\n",
      "Predicted string:  ihello\n",
      "epoch: 70, loss: 0.463\n",
      "Predicted string:  ihello\n",
      "epoch: 71, loss: 0.463\n",
      "Predicted string:  ihello\n",
      "epoch: 72, loss: 0.463\n",
      "Predicted string:  ihello\n",
      "epoch: 73, loss: 0.463\n",
      "Predicted string:  ihello\n",
      "epoch: 74, loss: 0.462\n",
      "Predicted string:  ihello\n",
      "epoch: 75, loss: 0.462\n",
      "Predicted string:  ihello\n",
      "epoch: 76, loss: 0.462\n",
      "Predicted string:  ihello\n",
      "epoch: 77, loss: 0.462\n",
      "Predicted string:  ihello\n",
      "epoch: 78, loss: 0.462\n",
      "Predicted string:  ihello\n",
      "epoch: 79, loss: 0.461\n",
      "Predicted string:  ihello\n",
      "epoch: 80, loss: 0.461\n",
      "Predicted string:  ihello\n",
      "epoch: 81, loss: 0.461\n",
      "Predicted string:  ihello\n",
      "epoch: 82, loss: 0.461\n",
      "Predicted string:  ihello\n",
      "epoch: 83, loss: 0.460\n",
      "Predicted string:  ihello\n",
      "epoch: 84, loss: 0.460\n",
      "Predicted string:  ihello\n",
      "epoch: 85, loss: 0.460\n",
      "Predicted string:  ihello\n",
      "epoch: 86, loss: 0.460\n",
      "Predicted string:  ihello\n",
      "epoch: 87, loss: 0.460\n",
      "Predicted string:  ihello\n",
      "epoch: 88, loss: 0.460\n",
      "Predicted string:  ihello\n",
      "epoch: 89, loss: 0.459\n",
      "Predicted string:  ihello\n",
      "epoch: 90, loss: 0.459\n",
      "Predicted string:  ihello\n",
      "epoch: 91, loss: 0.459\n",
      "Predicted string:  ihello\n",
      "epoch: 92, loss: 0.459\n",
      "Predicted string:  ihello\n",
      "epoch: 93, loss: 0.459\n",
      "Predicted string:  ihello\n",
      "epoch: 94, loss: 0.459\n",
      "Predicted string:  ihello\n",
      "epoch: 95, loss: 0.459\n",
      "Predicted string:  ihello\n",
      "epoch: 96, loss: 0.458\n",
      "Predicted string:  ihello\n",
      "epoch: 97, loss: 0.458\n",
      "Predicted string:  ihello\n",
      "epoch: 98, loss: 0.458\n",
      "Predicted string:  ihello\n",
      "epoch: 99, loss: 0.458\n",
      "Predicted string:  ihello\n",
      "epoch: 100, loss: 0.458\n",
      "Predicted string:  ihello\n",
      "Learning finished!\n"
     ]
    },
    {
     "name": "stderr",
     "output_type": "stream",
     "text": [
      "C:\\Users\\Farshad\\Miniconda3\\envs\\deep-learning\\lib\\site-packages\\ipykernel_launcher.py:83: UserWarning: invalid index of a 0-dim tensor. This will be an error in PyTorch 0.5. Use tensor.item() to convert a 0-dim tensor to a Python number\n"
     ]
    }
   ],
   "source": [
    "# Lab 12 RNN\n",
    "import torch\n",
    "import torch.nn as nn\n",
    "from torch.autograd import Variable\n",
    "\n",
    "torch.manual_seed(777)  # reproducibility\n",
    "\n",
    "\n",
    "idx2char = ['h', 'i', 'e', 'l', 'o']\n",
    "\n",
    "# Teach hihell -> ihello\n",
    "x_data = [[0, 1, 0, 2, 3, 3]]   # hihell\n",
    "x_one_hot = [[[1, 0, 0, 0, 0],   # h 0\n",
    "              [0, 1, 0, 0, 0],   # i 1\n",
    "              [1, 0, 0, 0, 0],   # h 0\n",
    "              [0, 0, 1, 0, 0],   # e 2\n",
    "              [0, 0, 0, 1, 0],   # l 3\n",
    "              [0, 0, 0, 1, 0]]]  # l 3\n",
    "\n",
    "y_data = [1, 0, 2, 3, 3, 4]    # ihello\n",
    "\n",
    "# As we have one batch of samples, we will change them to variables only once\n",
    "inputs = Variable(torch.Tensor(x_one_hot))\n",
    "labels = Variable(torch.LongTensor(y_data))\n",
    "\n",
    "num_classes = 5\n",
    "input_size = 5  # one-hot size\n",
    "hidden_size = 5  # output from the LSTM. 5 to directly predict one-hot\n",
    "batch_size = 1   # one sentence\n",
    "sequence_length = 6  # |ihello| == 6\n",
    "num_layers = 1  # one-layer rnn\n",
    "\n",
    "\n",
    "class RNN(nn.Module):\n",
    "\n",
    "    def __init__(self, num_classes, input_size, hidden_size, num_layers):\n",
    "        super(RNN, self).__init__()\n",
    "\n",
    "        self.num_classes = num_classes\n",
    "        self.num_layers = num_layers\n",
    "        self.input_size = input_size\n",
    "        self.hidden_size = hidden_size\n",
    "        self.sequence_length = sequence_length\n",
    "\n",
    "        self.rnn = nn.RNN(input_size=5, hidden_size=5, batch_first=True)\n",
    "\n",
    "    def forward(self, x):\n",
    "        # Initialize hidden and cell states\n",
    "        # (num_layers * num_directions, batch, hidden_size) for batch_first=True\n",
    "        h_0 = Variable(torch.zeros(\n",
    "            self.num_layers, x.size(0), self.hidden_size))\n",
    "\n",
    "        # Reshape input\n",
    "        x.view(x.size(0), self.sequence_length, self.input_size)\n",
    "\n",
    "        # Propagate input through RNN\n",
    "        # Input: (batch, seq_len, input_size)\n",
    "        # h_0: (num_layers * num_directions, batch, hidden_size)\n",
    "\n",
    "        out, _ = self.rnn(x, h_0)\n",
    "        return out.view(-1, num_classes)\n",
    "\n",
    "\n",
    "# Instantiate RNN model\n",
    "rnn = RNN(num_classes, input_size, hidden_size, num_layers)\n",
    "print(rnn)\n",
    "\n",
    "# Set loss and optimizer function\n",
    "# CrossEntropyLoss = LogSoftmax + NLLLoss\n",
    "criterion = torch.nn.CrossEntropyLoss()\n",
    "optimizer = torch.optim.Adam(rnn.parameters(), lr=0.1)\n",
    "\n",
    "# Train the model\n",
    "for epoch in range(100):\n",
    "    outputs = rnn(inputs)\n",
    "    optimizer.zero_grad()\n",
    "    loss = criterion(outputs, labels)\n",
    "    loss.backward()\n",
    "    optimizer.step()\n",
    "    _, idx = outputs.max(1)\n",
    "    idx = idx.data.numpy()\n",
    "    result_str = [idx2char[c] for c in idx.squeeze()]\n",
    "    print(\"epoch: %d, loss: %1.3f\" % (epoch + 1, loss.data[0]))\n",
    "    print(\"Predicted string: \", ''.join(result_str))\n",
    "\n",
    "print(\"Learning finished!\")"
   ]
  },
  {
   "cell_type": "code",
   "execution_count": null,
   "metadata": {},
   "outputs": [],
   "source": []
  },
  {
   "cell_type": "code",
   "execution_count": null,
   "metadata": {},
   "outputs": [],
   "source": []
  }
 ],
 "metadata": {
  "kernelspec": {
   "display_name": "Python 3",
   "language": "python",
   "name": "python3"
  },
  "language_info": {
   "codemirror_mode": {
    "name": "ipython",
    "version": 3
   },
   "file_extension": ".py",
   "mimetype": "text/x-python",
   "name": "python",
   "nbconvert_exporter": "python",
   "pygments_lexer": "ipython3",
   "version": "3.7.1"
  }
 },
 "nbformat": 4,
 "nbformat_minor": 2
}
